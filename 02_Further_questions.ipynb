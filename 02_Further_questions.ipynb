{
 "cells": [
  {
   "cell_type": "markdown",
   "id": "classified-start",
   "metadata": {
    "toc": true
   },
   "source": [
    "<h1>Table of Contents<span class=\"tocSkip\"></span></h1>\n",
    "<div class=\"toc\"><ul class=\"toc-item\"><li><span><a href=\"#Retrieve-an-arbitrary-Wikipedia-page-of-&quot;Python&quot;-and-create-a-list-of-links-on-that-page\" data-toc-modified-id=\"Retrieve-an-arbitrary-Wikipedia-page-of-&quot;Python&quot;-and-create-a-list-of-links-on-that-page-1\"><span class=\"toc-item-num\">1&nbsp;&nbsp;</span>Retrieve an arbitrary Wikipedia page of \"Python\" and create a list of links on that page</a></span></li><li><span><a href=\"#Find-the-number-of-titles-that-have-changed-in-the-United-States-Code-since-its-last-release-point\" data-toc-modified-id=\"Find-the-number-of-titles-that-have-changed-in-the-United-States-Code-since-its-last-release-point-2\"><span class=\"toc-item-num\">2&nbsp;&nbsp;</span>Find the number of titles that have changed in the United States Code since its last release point</a></span></li><li><span><a href=\"#Create-a-Python-list-with-the-top-ten-FBI's-Most-Wanted-names\" data-toc-modified-id=\"Create-a-Python-list-with-the-top-ten-FBI's-Most-Wanted-names-3\"><span class=\"toc-item-num\">3&nbsp;&nbsp;</span>Create a Python list with the top ten FBI's Most Wanted names</a></span></li><li><span><a href=\"#Display-the-20-latest-earthquakes-info-(date,-time,-latitude,-longitude-and-region-name)-by-the-EMSC-as-a-pandas-dataframe\" data-toc-modified-id=\"Display-the-20-latest-earthquakes-info-(date,-time,-latitude,-longitude-and-region-name)-by-the-EMSC-as-a-pandas-dataframe-4\"><span class=\"toc-item-num\">4&nbsp;&nbsp;</span>Display the 20 latest earthquakes info (date, time, latitude, longitude and region name) by the EMSC as a pandas dataframe</a></span></li><li><span><a href=\"#List-all-language-names-and-number-of-related-articles-in-the-order-they-appear-in-wikipedia.org\" data-toc-modified-id=\"List-all-language-names-and-number-of-related-articles-in-the-order-they-appear-in-wikipedia.org-5\"><span class=\"toc-item-num\">5&nbsp;&nbsp;</span>List all language names and number of related articles in the order they appear in <a href=\"wikipedia.org\" target=\"_blank\">wikipedia.org</a></a></span></li><li><span><a href=\"#A-list-with-the-different-kind-of-datasets-available-in-data.gov.uk\" data-toc-modified-id=\"A-list-with-the-different-kind-of-datasets-available-in-data.gov.uk-6\"><span class=\"toc-item-num\">6&nbsp;&nbsp;</span>A list with the different kind of datasets available in <a href=\"data.gov.uk\" target=\"_blank\">data.gov.uk</a></a></span></li><li><span><a href=\"#Display-the-top-10-languages-by-number-of-native-speakers-stored-in-a-pandas-dataframe\" data-toc-modified-id=\"Display-the-top-10-languages-by-number-of-native-speakers-stored-in-a-pandas-dataframe-7\"><span class=\"toc-item-num\">7&nbsp;&nbsp;</span>Display the top 10 languages by number of native speakers stored in a pandas dataframe</a></span></li></ul></div>"
   ]
  },
  {
   "cell_type": "code",
   "execution_count": 29,
   "id": "c7d86274",
   "metadata": {},
   "outputs": [],
   "source": [
    "from bs4 import BeautifulSoup\n",
    "from urllib.request import urlopen\n",
    "\n",
    "import random\n",
    "import requests\n",
    "import pandas as pd"
   ]
  },
  {
   "cell_type": "markdown",
   "id": "cellular-poster",
   "metadata": {},
   "source": [
    "As you've seen, scraping the internet is a skill that can get you all sorts of information. Here are some little challenges to gain more experience in the field"
   ]
  },
  {
   "cell_type": "markdown",
   "id": "express-introduction",
   "metadata": {},
   "source": [
    "### Retrieve an arbitrary Wikipedia page of \"Python\" and create a list of links on that page"
   ]
  },
  {
   "cell_type": "code",
   "execution_count": 5,
   "id": "appreciated-bubble",
   "metadata": {},
   "outputs": [],
   "source": [
    "url1 = urlopen(\"https://en.wikipedia.org/wiki/Python\")"
   ]
  },
  {
   "cell_type": "code",
   "execution_count": 6,
   "id": "bad2b1b7",
   "metadata": {},
   "outputs": [],
   "source": [
    "soup1 = BeautifulSoup(url1)"
   ]
  },
  {
   "cell_type": "code",
   "execution_count": 7,
   "id": "fa58b914",
   "metadata": {},
   "outputs": [
    {
     "name": "stdout",
     "output_type": "stream",
     "text": [
      "#mw-head\n",
      "#searchInput\n",
      "https://en.wiktionary.org/wiki/Python\n",
      "https://en.wiktionary.org/wiki/python\n",
      "/wiki/Pythonidae\n",
      "/wiki/Python_(genus)\n",
      "#Computing\n",
      "#People\n",
      "#Roller_coasters\n",
      "#Vehicles\n",
      "#Weaponry\n",
      "#Other_uses\n",
      "#See_also\n",
      "/w/index.php?title=Python&action=edit&section=1\n",
      "/wiki/Python_(programming_language)\n",
      "/wiki/CMU_Common_Lisp\n",
      "/wiki/PERQ#PERQ_3\n",
      "/w/index.php?title=Python&action=edit&section=2\n",
      "/wiki/Python_of_Aenus\n",
      "/wiki/Python_(painter)\n",
      "/wiki/Python_of_Byzantium\n",
      "/wiki/Python_of_Catana\n",
      "/wiki/Python_Anghelo\n",
      "/w/index.php?title=Python&action=edit&section=3\n",
      "/wiki/Python_(Efteling)\n",
      "/wiki/Python_(Busch_Gardens_Tampa_Bay)\n",
      "/wiki/Python_(Coney_Island,_Cincinnati,_Ohio)\n",
      "/w/index.php?title=Python&action=edit&section=4\n",
      "/wiki/Python_(automobile_maker)\n",
      "/wiki/Python_(Ford_prototype)\n",
      "/w/index.php?title=Python&action=edit&section=5\n",
      "/wiki/Python_(missile)\n",
      "/wiki/Python_(nuclear_primary)\n",
      "/wiki/Colt_Python\n",
      "/w/index.php?title=Python&action=edit&section=6\n",
      "/wiki/PYTHON\n",
      "/wiki/Python_(film)\n",
      "/wiki/Python_(mythology)\n",
      "/wiki/Monty_Python\n",
      "/wiki/Python_(Monty)_Pictures\n",
      "/w/index.php?title=Python&action=edit&section=7\n",
      "/wiki/Cython\n",
      "/wiki/Pyton\n",
      "/wiki/Pithon\n",
      "/wiki/File:Disambig_gray.svg\n",
      "/wiki/Help:Disambiguation\n",
      "https://en.wikipedia.org/w/index.php?title=Special:WhatLinksHere/Python&namespace=0\n",
      "https://en.wikipedia.org/w/index.php?title=Python&oldid=1048703433\n",
      "/wiki/Help:Category\n",
      "/wiki/Category:Disambiguation_pages\n",
      "/wiki/Category:Human_name_disambiguation_pages\n",
      "/wiki/Category:Disambiguation_pages_with_given-name-holder_lists\n",
      "/wiki/Category:Disambiguation_pages_with_short_descriptions\n",
      "/wiki/Category:Short_description_is_different_from_Wikidata\n",
      "/wiki/Category:All_article_disambiguation_pages\n",
      "/wiki/Category:All_disambiguation_pages\n",
      "/wiki/Category:Animal_common_name_disambiguation_pages\n",
      "/wiki/Special:MyTalk\n",
      "/wiki/Special:MyContributions\n",
      "/w/index.php?title=Special:CreateAccount&returnto=Python\n",
      "/w/index.php?title=Special:UserLogin&returnto=Python\n",
      "/wiki/Python\n",
      "/wiki/Talk:Python\n",
      "/wiki/Python\n",
      "/w/index.php?title=Python&action=edit\n",
      "/w/index.php?title=Python&action=history\n",
      "/wiki/Main_Page\n",
      "/wiki/Main_Page\n",
      "/wiki/Wikipedia:Contents\n",
      "/wiki/Portal:Current_events\n",
      "/wiki/Special:Random\n",
      "/wiki/Wikipedia:About\n",
      "//en.wikipedia.org/wiki/Wikipedia:Contact_us\n",
      "https://donate.wikimedia.org/wiki/Special:FundraiserRedirector?utm_source=donate&utm_medium=sidebar&utm_campaign=C13_en.wikipedia.org&uselang=en\n",
      "/wiki/Help:Contents\n",
      "/wiki/Help:Introduction\n",
      "/wiki/Wikipedia:Community_portal\n",
      "/wiki/Special:RecentChanges\n",
      "/wiki/Wikipedia:File_Upload_Wizard\n",
      "/wiki/Special:WhatLinksHere/Python\n",
      "/wiki/Special:RecentChangesLinked/Python\n",
      "/wiki/Wikipedia:File_Upload_Wizard\n",
      "/wiki/Special:SpecialPages\n",
      "/w/index.php?title=Python&oldid=1048703433\n",
      "/w/index.php?title=Python&action=info\n",
      "/w/index.php?title=Special:CiteThisPage&page=Python&id=1048703433&wpFormIdentifier=titleform\n",
      "https://www.wikidata.org/wiki/Special:EntityPage/Q747452\n",
      "/w/index.php?title=Special:DownloadAsPdf&page=Python&action=show-download-screen\n",
      "/w/index.php?title=Python&printable=yes\n",
      "https://commons.wikimedia.org/wiki/Category:Python\n",
      "https://af.wikipedia.org/wiki/Python\n",
      "https://als.wikipedia.org/wiki/Python\n",
      "https://ar.wikipedia.org/wiki/%D8%A8%D8%A7%D9%8A%D8%AB%D9%88%D9%86_(%D8%AA%D9%88%D8%B6%D9%8A%D8%AD)\n",
      "https://az.wikipedia.org/wiki/Python\n",
      "https://bn.wikipedia.org/wiki/%E0%A6%AA%E0%A6%BE%E0%A6%87%E0%A6%A5%E0%A6%A8_(%E0%A6%A6%E0%A7%8D%E0%A6%AC%E0%A7%8D%E0%A6%AF%E0%A6%B0%E0%A7%8D%E0%A6%A5%E0%A6%A4%E0%A6%BE_%E0%A6%A8%E0%A6%BF%E0%A6%B0%E0%A6%B8%E0%A6%A8)\n",
      "https://be.wikipedia.org/wiki/Python\n",
      "https://bg.wikipedia.org/wiki/%D0%9F%D0%B8%D1%82%D0%BE%D0%BD_(%D0%BF%D0%BE%D1%8F%D1%81%D0%BD%D0%B5%D0%BD%D0%B8%D0%B5)\n",
      "https://cs.wikipedia.org/wiki/Python_(rozcestn%C3%ADk)\n",
      "https://da.wikipedia.org/wiki/Python\n",
      "https://de.wikipedia.org/wiki/Python\n",
      "https://eo.wikipedia.org/wiki/Pitono_(apartigilo)\n",
      "https://eu.wikipedia.org/wiki/Python_(argipena)\n",
      "https://fa.wikipedia.org/wiki/%D9%BE%D8%A7%DB%8C%D8%AA%D9%88%D9%86\n",
      "https://fr.wikipedia.org/wiki/Python\n",
      "https://ko.wikipedia.org/wiki/%ED%8C%8C%EC%9D%B4%EC%84%A0\n",
      "https://hr.wikipedia.org/wiki/Python_(razdvojba)\n",
      "https://io.wikipedia.org/wiki/Pitono\n",
      "https://id.wikipedia.org/wiki/Python\n",
      "https://ia.wikipedia.org/wiki/Python_(disambiguation)\n",
      "https://is.wikipedia.org/wiki/Python_(a%C3%B0greining)\n",
      "https://it.wikipedia.org/wiki/Python_(disambigua)\n",
      "https://he.wikipedia.org/wiki/%D7%A4%D7%99%D7%AA%D7%95%D7%9F\n",
      "https://ka.wikipedia.org/wiki/%E1%83%9E%E1%83%98%E1%83%97%E1%83%9D%E1%83%9C%E1%83%98_(%E1%83%9B%E1%83%A0%E1%83%90%E1%83%95%E1%83%90%E1%83%9A%E1%83%9B%E1%83%9C%E1%83%98%E1%83%A8%E1%83%95%E1%83%9C%E1%83%94%E1%83%9A%E1%83%9D%E1%83%95%E1%83%90%E1%83%9C%E1%83%98)\n",
      "https://kg.wikipedia.org/wiki/Mboma_(nyoka)\n",
      "https://la.wikipedia.org/wiki/Python_(discretiva)\n",
      "https://lb.wikipedia.org/wiki/Python\n",
      "https://hu.wikipedia.org/wiki/Python_(egy%C3%A9rtelm%C5%B1s%C3%ADt%C5%91_lap)\n",
      "https://mr.wikipedia.org/wiki/%E0%A4%AA%E0%A4%BE%E0%A4%AF%E0%A4%A5%E0%A5%89%E0%A4%A8_(%E0%A4%86%E0%A4%9C%E0%A5%8D%E0%A4%9E%E0%A4%BE%E0%A4%B5%E0%A4%B2%E0%A5%80_%E0%A4%AD%E0%A4%BE%E0%A4%B7%E0%A4%BE)\n",
      "https://nl.wikipedia.org/wiki/Python\n",
      "https://ja.wikipedia.org/wiki/%E3%83%91%E3%82%A4%E3%82%BD%E3%83%B3\n",
      "https://no.wikipedia.org/wiki/Pyton\n",
      "https://pl.wikipedia.org/wiki/Pyton\n",
      "https://pt.wikipedia.org/wiki/Python_(desambigua%C3%A7%C3%A3o)\n",
      "https://ru.wikipedia.org/wiki/Python_(%D0%B7%D0%BD%D0%B0%D1%87%D0%B5%D0%BD%D0%B8%D1%8F)\n",
      "https://sk.wikipedia.org/wiki/Python\n",
      "https://sr.wikipedia.org/wiki/%D0%9F%D0%B8%D1%82%D0%BE%D0%BD_(%D0%B2%D0%B8%D1%88%D0%B5%D0%B7%D0%BD%D0%B0%D1%87%D0%BD%D0%B0_%D0%BE%D0%B4%D1%80%D0%B5%D0%B4%D0%BD%D0%B8%D1%86%D0%B0)\n",
      "https://sh.wikipedia.org/wiki/Python\n",
      "https://fi.wikipedia.org/wiki/Python\n",
      "https://sv.wikipedia.org/wiki/Pyton\n",
      "https://th.wikipedia.org/wiki/%E0%B9%84%E0%B8%9E%E0%B8%97%E0%B8%AD%E0%B8%99\n",
      "https://tr.wikipedia.org/wiki/Python\n",
      "https://uk.wikipedia.org/wiki/%D0%9F%D1%96%D1%84%D0%BE%D0%BD\n",
      "https://ur.wikipedia.org/wiki/%D9%BE%D8%A7%D8%A6%DB%8C%D8%AA%DA%BE%D9%88%D9%86\n",
      "https://vi.wikipedia.org/wiki/Python\n",
      "https://zh.wikipedia.org/wiki/Python_(%E6%B6%88%E6%AD%A7%E4%B9%89)\n",
      "https://www.wikidata.org/wiki/Special:EntityPage/Q747452#sitelinks-wikipedia\n",
      "//en.wikipedia.org/wiki/Wikipedia:Text_of_Creative_Commons_Attribution-ShareAlike_3.0_Unported_License\n",
      "//creativecommons.org/licenses/by-sa/3.0/\n",
      "//foundation.wikimedia.org/wiki/Terms_of_Use\n",
      "//foundation.wikimedia.org/wiki/Privacy_policy\n",
      "//www.wikimediafoundation.org/\n",
      "https://foundation.wikimedia.org/wiki/Privacy_policy\n",
      "/wiki/Wikipedia:About\n",
      "/wiki/Wikipedia:General_disclaimer\n",
      "//en.wikipedia.org/wiki/Wikipedia:Contact_us\n",
      "//en.m.wikipedia.org/w/index.php?title=Python&mobileaction=toggle_view_mobile\n",
      "https://www.mediawiki.org/wiki/Special:MyLanguage/How_to_contribute\n",
      "https://stats.wikimedia.org/#/en.wikipedia.org\n",
      "https://foundation.wikimedia.org/wiki/Cookie_statement\n",
      "https://wikimediafoundation.org/\n",
      "https://www.mediawiki.org/\n"
     ]
    }
   ],
   "source": [
    "for link in soup1.findAll(\"a\"):\n",
    "  if 'href' in link.attrs:\n",
    "    print(link.attrs['href'])"
   ]
  },
  {
   "cell_type": "markdown",
   "id": "relevant-performer",
   "metadata": {},
   "source": [
    "### Find the number of titles that have changed in the United States Code since its last release point"
   ]
  },
  {
   "cell_type": "code",
   "execution_count": 35,
   "id": "scenic-surgeon",
   "metadata": {},
   "outputs": [],
   "source": [
    "url2 = urlopen('http://uscode.house.gov/download/download.shtml')"
   ]
  },
  {
   "cell_type": "code",
   "execution_count": 32,
   "id": "6984675e",
   "metadata": {},
   "outputs": [],
   "source": [
    "soup2 = BeautifulSoup(url2)"
   ]
  },
  {
   "cell_type": "code",
   "execution_count": 34,
   "id": "f3722dd0",
   "metadata": {},
   "outputs": [
    {
     "name": "stdout",
     "output_type": "stream",
     "text": [
      "Number of titles that have changed in the United States Code\n"
     ]
    },
    {
     "ename": "KeyError",
     "evalue": "'footnote'",
     "output_type": "error",
     "traceback": [
      "\u001b[1;31m---------------------------------------------------------------------------\u001b[0m",
      "\u001b[1;31mKeyError\u001b[0m                                  Traceback (most recent call last)",
      "\u001b[1;32m~\\AppData\\Local\\Temp/ipykernel_15096/3369036091.py\u001b[0m in \u001b[0;36m<module>\u001b[1;34m\u001b[0m\n\u001b[0;32m      3\u001b[0m \u001b[0mprint\u001b[0m\u001b[1;33m(\u001b[0m\u001b[1;34m\"Number of titles that have changed in the United States Code\"\u001b[0m\u001b[1;33m)\u001b[0m\u001b[1;33m\u001b[0m\u001b[1;33m\u001b[0m\u001b[0m\n\u001b[0;32m      4\u001b[0m \u001b[1;33m\u001b[0m\u001b[0m\n\u001b[1;32m----> 5\u001b[1;33m \u001b[0mprint\u001b[0m\u001b[1;33m(\u001b[0m\u001b[0msoup2\u001b[0m\u001b[1;33m[\u001b[0m\u001b[1;34m'footnote'\u001b[0m\u001b[1;33m]\u001b[0m\u001b[1;33m[\u001b[0m\u001b[1;36m0\u001b[0m\u001b[1;33m]\u001b[0m\u001b[1;33m[\u001b[0m\u001b[1;34m'usctitle'\u001b[0m\u001b[1;33m]\u001b[0m\u001b[1;33m)\u001b[0m\u001b[1;33m\u001b[0m\u001b[1;33m\u001b[0m\u001b[0m\n\u001b[0m\u001b[0;32m      6\u001b[0m \u001b[1;33m\u001b[0m\u001b[0m\n",
      "\u001b[1;32m~\\anaconda3\\lib\\site-packages\\bs4\\element.py\u001b[0m in \u001b[0;36m__getitem__\u001b[1;34m(self, key)\u001b[0m\n\u001b[0;32m   1404\u001b[0m         \"\"\"tag[key] returns the value of the 'key' attribute for the Tag,\n\u001b[0;32m   1405\u001b[0m         and throws an exception if it's not there.\"\"\"\n\u001b[1;32m-> 1406\u001b[1;33m         \u001b[1;32mreturn\u001b[0m \u001b[0mself\u001b[0m\u001b[1;33m.\u001b[0m\u001b[0mattrs\u001b[0m\u001b[1;33m[\u001b[0m\u001b[0mkey\u001b[0m\u001b[1;33m]\u001b[0m\u001b[1;33m\u001b[0m\u001b[1;33m\u001b[0m\u001b[0m\n\u001b[0m\u001b[0;32m   1407\u001b[0m \u001b[1;33m\u001b[0m\u001b[0m\n\u001b[0;32m   1408\u001b[0m     \u001b[1;32mdef\u001b[0m \u001b[0m__iter__\u001b[0m\u001b[1;33m(\u001b[0m\u001b[0mself\u001b[0m\u001b[1;33m)\u001b[0m\u001b[1;33m:\u001b[0m\u001b[1;33m\u001b[0m\u001b[1;33m\u001b[0m\u001b[0m\n",
      "\u001b[1;31mKeyError\u001b[0m: 'footnote'"
     ]
    }
   ],
   "source": [
    "\n",
    "import requests\n",
    "print(\"Number of titles that have changed in the United States Code\")\n",
    "print(soup2['footnote'][0]['usctitle'])\n",
    "  "
   ]
  },
  {
   "cell_type": "code",
   "execution_count": null,
   "id": "6d75f9d9",
   "metadata": {},
   "outputs": [],
   "source": []
  },
  {
   "cell_type": "code",
   "execution_count": 15,
   "id": "38911ca8",
   "metadata": {},
   "outputs": [],
   "source": []
  },
  {
   "cell_type": "code",
   "execution_count": null,
   "id": "57366a73",
   "metadata": {},
   "outputs": [],
   "source": []
  },
  {
   "cell_type": "markdown",
   "id": "acute-necessity",
   "metadata": {},
   "source": [
    "### Create a Python list with the top ten FBI's Most Wanted names"
   ]
  },
  {
   "cell_type": "code",
   "execution_count": null,
   "id": "starting-blackberry",
   "metadata": {},
   "outputs": [],
   "source": [
    "url3 = urlopen('https://www.fbi.gov/wanted/topten')"
   ]
  },
  {
   "cell_type": "code",
   "execution_count": null,
   "id": "15b453b7",
   "metadata": {},
   "outputs": [],
   "source": [
    "soup3 = BeautifulSoup(url3)"
   ]
  },
  {
   "cell_type": "code",
   "execution_count": null,
   "id": "0a847b01",
   "metadata": {},
   "outputs": [],
   "source": []
  },
  {
   "cell_type": "markdown",
   "id": "joined-induction",
   "metadata": {},
   "source": [
    "### Display the 20 latest earthquakes info (date, time, latitude, longitude and region name) by the EMSC as a pandas dataframe"
   ]
  },
  {
   "cell_type": "code",
   "execution_count": null,
   "id": "copyrighted-taiwan",
   "metadata": {},
   "outputs": [],
   "source": [
    "url4 = urlopen('https://www.emsc-csem.org/Earthquake/')"
   ]
  },
  {
   "cell_type": "code",
   "execution_count": null,
   "id": "be31be7a",
   "metadata": {},
   "outputs": [],
   "source": [
    "soup4 = BeautifulSoup(url4)"
   ]
  },
  {
   "cell_type": "code",
   "execution_count": null,
   "id": "b70678a8",
   "metadata": {},
   "outputs": [],
   "source": [
    "res4 = requests.get('https://www.emsc-csem.org/Earthquake/')\n",
    "soup4 = BeautifulSoup(url4)\n",
    "earthquakes_data = soup4.find_all('div',{'class':'hackathon '})\n",
    "for i,f in enumerate(earthquakes_data,1):\n",
    "    earthquakes_date = f.find('div',{'class':'date'}).find('div',{'class':'date-day-number'}).text.strip()\n",
    "    earthquakes_time = f.find('div',{'class':'date'}).find('div',{'class':'date-week-days'}).text.strip()\n",
    "    earthquakes_latitude = f.find('div',{'class':'info'}).find('h2').text.strip()\n",
    "    earthquakes_latitude = f.find('div',{'class':'info'}).find('h2').text.strip()\n",
    "    earthquakes_region_name = f.find('div',{'class':'info'}).find('p').find('span',{'class':'city'}).text.strip()\n",
    "    print(\"{:<5}{:<15}: {:<90}: {}, {}\\n \".format(str(i)+')',earthquakes_date, earthquakes_time.title(), earthquakes_latitude, earthquakes_longitude,earthquakes_region_name ))\n",
    "  "
   ]
  },
  {
   "cell_type": "markdown",
   "id": "dominican-defeat",
   "metadata": {},
   "source": [
    "### List all language names and number of related articles in the order they appear in [wikipedia.org](wikipedia.org)"
   ]
  },
  {
   "cell_type": "code",
   "execution_count": 14,
   "id": "metric-vertex",
   "metadata": {},
   "outputs": [],
   "source": [
    "url5 = urlopen('https://www.wikipedia.org/')"
   ]
  },
  {
   "cell_type": "code",
   "execution_count": 15,
   "id": "8785c69e",
   "metadata": {},
   "outputs": [],
   "source": [
    "soup5 = BeautifulSoup(url5)"
   ]
  },
  {
   "cell_type": "code",
   "execution_count": 16,
   "id": "66e98098",
   "metadata": {},
   "outputs": [
    {
     "name": "stdout",
     "output_type": "stream",
     "text": [
      "\n",
      "English\n",
      "6 383 000+ articles\n",
      "\n",
      "\n",
      "日本語\n",
      "1 292 000+ 記事\n",
      "\n",
      "\n",
      "Español\n",
      "1 717 000+ artículos\n",
      "\n",
      "\n",
      "Deutsch\n",
      "2 617 000+ Artikel\n",
      "\n",
      "\n",
      "Русский\n",
      "1 756 000+ статей\n",
      "\n",
      "\n",
      "Français\n",
      "2 362 000+ articles\n",
      "\n",
      "\n",
      "中文\n",
      "1 231 000+ 條目\n",
      "\n",
      "\n",
      "Italiano\n",
      "1 718 000+ voci\n",
      "\n",
      "\n",
      "Português\n",
      "1 074 000+ artigos\n",
      "\n",
      "\n",
      "Polski\n",
      "1 490 000+ haseł\n",
      "\n"
     ]
    }
   ],
   "source": [
    "nameList = soup5.findAll('a', {'class' : 'link-box'})\n",
    "for name in nameList:\n",
    "  print(name.get_text())"
   ]
  },
  {
   "cell_type": "markdown",
   "id": "split-cartridge",
   "metadata": {},
   "source": [
    "### A list with the different kind of datasets available in [data.gov.uk](data.gov.uk)\n"
   ]
  },
  {
   "cell_type": "code",
   "execution_count": 22,
   "id": "actual-parallel",
   "metadata": {},
   "outputs": [],
   "source": [
    "url6 = urlopen('https://data.gov.uk/')"
   ]
  },
  {
   "cell_type": "code",
   "execution_count": 25,
   "id": "f22e9ac5",
   "metadata": {},
   "outputs": [
    {
     "name": "stdout",
     "output_type": "stream",
     "text": [
      "Collecting cssselect\n",
      "  Downloading cssselect-1.1.0-py2.py3-none-any.whl (16 kB)\n",
      "Installing collected packages: cssselect\n",
      "Successfully installed cssselect-1.1.0\n",
      "Note: you may need to restart the kernel to use updated packages.\n"
     ]
    }
   ],
   "source": [
    "pip install cssselect"
   ]
  },
  {
   "cell_type": "code",
   "execution_count": 26,
   "id": "aae51819",
   "metadata": {},
   "outputs": [],
   "source": [
    "soup6 = BeautifulSoup(url6)"
   ]
  },
  {
   "cell_type": "code",
   "execution_count": 28,
   "id": "f415b691",
   "metadata": {},
   "outputs": [
    {
     "ename": "IndexError",
     "evalue": "list index out of range",
     "output_type": "error",
     "traceback": [
      "\u001b[1;31m---------------------------------------------------------------------------\u001b[0m",
      "\u001b[1;31mIndexError\u001b[0m                                Traceback (most recent call last)",
      "\u001b[1;32m~\\AppData\\Local\\Temp/ipykernel_15096/234811406.py\u001b[0m in \u001b[0;36m<module>\u001b[1;34m\u001b[0m\n\u001b[0;32m      3\u001b[0m \u001b[0mresponse\u001b[0m \u001b[1;33m=\u001b[0m \u001b[0mrequests\u001b[0m\u001b[1;33m.\u001b[0m\u001b[0mget\u001b[0m\u001b[1;33m(\u001b[0m\u001b[1;34m'https://data.gov.uk/'\u001b[0m\u001b[1;33m)\u001b[0m\u001b[1;33m\u001b[0m\u001b[1;33m\u001b[0m\u001b[0m\n\u001b[0;32m      4\u001b[0m \u001b[0mdoc\u001b[0m \u001b[1;33m=\u001b[0m \u001b[0mhtml\u001b[0m\u001b[1;33m.\u001b[0m\u001b[0mfromstring\u001b[0m\u001b[1;33m(\u001b[0m\u001b[0mresponse\u001b[0m\u001b[1;33m.\u001b[0m\u001b[0mtext\u001b[0m\u001b[1;33m)\u001b[0m\u001b[1;33m\u001b[0m\u001b[1;33m\u001b[0m\u001b[0m\n\u001b[1;32m----> 5\u001b[1;33m \u001b[0mtitle\u001b[0m \u001b[1;33m=\u001b[0m \u001b[0mdoc\u001b[0m\u001b[1;33m.\u001b[0m\u001b[0mcssselect\u001b[0m\u001b[1;33m(\u001b[0m\u001b[1;34m'h3.dataset-heading'\u001b[0m\u001b[1;33m)\u001b[0m\u001b[1;33m[\u001b[0m\u001b[1;36m0\u001b[0m\u001b[1;33m]\u001b[0m\u001b[1;33m.\u001b[0m\u001b[0mtext_content\u001b[0m\u001b[1;33m(\u001b[0m\u001b[1;33m)\u001b[0m\u001b[1;33m\u001b[0m\u001b[1;33m\u001b[0m\u001b[0m\n\u001b[0m\u001b[0;32m      6\u001b[0m \u001b[0mprint\u001b[0m\u001b[1;33m(\u001b[0m\u001b[1;34m\"The name of the different kind of dataset on data.gov:\"\u001b[0m\u001b[1;33m)\u001b[0m\u001b[1;33m\u001b[0m\u001b[1;33m\u001b[0m\u001b[0m\n\u001b[0;32m      7\u001b[0m \u001b[0mprint\u001b[0m\u001b[1;33m(\u001b[0m\u001b[0mtitle\u001b[0m\u001b[1;33m.\u001b[0m\u001b[0mstrip\u001b[0m\u001b[1;33m(\u001b[0m\u001b[1;33m)\u001b[0m\u001b[1;33m)\u001b[0m\u001b[1;33m\u001b[0m\u001b[1;33m\u001b[0m\u001b[0m\n",
      "\u001b[1;31mIndexError\u001b[0m: list index out of range"
     ]
    }
   ],
   "source": [
    "from lxml import html\n",
    "import requests\n",
    "response = requests.get('https://data.gov.uk/')\n",
    "doc = html.fromstring(response.text)\n",
    "title = doc.cssselect('h3.dataset-heading')[0].text_content()\n",
    "print(\"The name of the different kind of dataset on data.gov:\")\n",
    "print(title.strip())"
   ]
  },
  {
   "cell_type": "markdown",
   "id": "potential-malpractice",
   "metadata": {},
   "source": [
    "### Display the top 10 languages by number of native speakers stored in a pandas dataframe"
   ]
  },
  {
   "cell_type": "code",
   "execution_count": null,
   "id": "adaptive-calculator",
   "metadata": {},
   "outputs": [],
   "source": [
    "url7 = urlopen('https://en.wikipedia.org/wiki/List_of_languages_by_number_of_native_speakers')"
   ]
  },
  {
   "cell_type": "code",
   "execution_count": null,
   "id": "2ce345cf",
   "metadata": {},
   "outputs": [],
   "source": [
    "soup7 = BeautifulSoup(url7)"
   ]
  },
  {
   "cell_type": "code",
   "execution_count": null,
   "id": "d52fa4b0",
   "metadata": {},
   "outputs": [],
   "source": [
    "from bs4 import BeautifulSoup\n",
    "\n",
    "def get_imd_movies(url):\n",
    "    page = requests.get(url)\n",
    "    soup = BeautifulSoup(page.text, 'html.parser')\n",
    "    movies = soup.find_all(\"td\", class_=\"titleColumn\")\n",
    "    random.shuffle(movies)\n",
    "    return movies\n",
    "def get_imd_summary(url):\n",
    "    movie_page = requests.get(url)\n",
    "    soup = BeautifulSoup(movie_page.text, 'html.parser')\n",
    "    return soup.find(\"div\", class_=\"summary_text\").contents[0].strip()\n",
    "\n",
    "def get_imd_movie_info(movie):\n",
    "    movie_title = movie.a.contents[0]\n",
    "    movie_year = movie.span.contents[0]\n",
    "    movie_url = 'http://www.imdb.com' + movie.a['href']\n",
    "    return movie_title, movie_year, movie_url\n",
    "\n",
    "def imd_movie_picker():\n",
    "    ctr=0\n",
    "    print(\"--------------------------------------------\")\n",
    "    for movie in get_imd_movies('http://www.imdb.com/chart/top'):\n",
    "        movie_title, movie_year, movie_url = get_imd_movie_info(movie)\n",
    "        movie_summary = get_imd_summary(movie_url)\n",
    "        print(movie_title, movie_year)\n",
    "        print(movie_summary)\n",
    "        print(\"--------------------------------------------\")\n",
    "        ctr=ctr+1\n",
    "        if (ctr==10):\n",
    "          break;   \n",
    "if __name__ == '__main__':\n",
    "    imd_movie_picker()\n",
    "  "
   ]
  }
 ],
 "metadata": {
  "kernelspec": {
   "display_name": "Python 3",
   "language": "python",
   "name": "python3"
  },
  "language_info": {
   "codemirror_mode": {
    "name": "ipython",
    "version": 3
   },
   "file_extension": ".py",
   "mimetype": "text/x-python",
   "name": "python",
   "nbconvert_exporter": "python",
   "pygments_lexer": "ipython3",
   "version": "3.8.8"
  },
  "toc": {
   "base_numbering": 1,
   "nav_menu": {},
   "number_sections": true,
   "sideBar": true,
   "skip_h1_title": false,
   "title_cell": "Table of Contents",
   "title_sidebar": "Contents",
   "toc_cell": true,
   "toc_position": {},
   "toc_section_display": true,
   "toc_window_display": false
  },
  "varInspector": {
   "cols": {
    "lenName": 16,
    "lenType": 16,
    "lenVar": 40
   },
   "kernels_config": {
    "python": {
     "delete_cmd_postfix": "",
     "delete_cmd_prefix": "del ",
     "library": "var_list.py",
     "varRefreshCmd": "print(var_dic_list())"
    },
    "r": {
     "delete_cmd_postfix": ") ",
     "delete_cmd_prefix": "rm(",
     "library": "var_list.r",
     "varRefreshCmd": "cat(var_dic_list()) "
    }
   },
   "types_to_exclude": [
    "module",
    "function",
    "builtin_function_or_method",
    "instance",
    "_Feature"
   ],
   "window_display": false
  }
 },
 "nbformat": 4,
 "nbformat_minor": 5
}
